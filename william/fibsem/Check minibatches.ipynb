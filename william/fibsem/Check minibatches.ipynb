{
 "cells": [
  {
   "cell_type": "code",
   "execution_count": 752,
   "metadata": {
    "collapsed": false
   },
   "outputs": [],
   "source": [
    "import glob\n",
    "\n",
    "import neuroglancer\n",
    "import nyroglancer"
   ]
  },
  {
   "cell_type": "code",
   "execution_count": 1154,
   "metadata": {
    "collapsed": false
   },
   "outputs": [
    {
     "name": "stdout",
     "output_type": "stream",
     "text": [
      "[]\n"
     ]
    }
   ],
   "source": [
    "malis_minibatches = list(sorted(\n",
    "        glob.glob(\"./snapshots/*.hdf\"\n",
    "        )))\n",
    "from pprint import pprint\n",
    "pprint(malis_minibatches)"
   ]
  },
  {
   "cell_type": "code",
   "execution_count": 1043,
   "metadata": {
    "collapsed": false,
    "scrolled": false
   },
   "outputs": [
    {
     "name": "stdout",
     "output_type": "stream",
     "text": [
      "./snapshots/batch_00000000.hdf\n",
      "Adding dataset ./snapshots/batch_00000000.hdf/volumes/labels/affs\n",
      "Adding dataset ./snapshots/batch_00000000.hdf/volumes/labels/neuron_ids\n",
      "Adding dataset ./snapshots/batch_00000000.hdf/volumes/loss_scale\n",
      "Adding dataset ./snapshots/batch_00000000.hdf/volumes/predicted_affs\n",
      "Adding dataset ./snapshots/batch_00000000.hdf/volumes/raw\n"
     ]
    },
    {
     "data": {
      "text/html": [
       "<iframe src=\"http://slowpoke2:8888/neuroglancer#!%7B%22layers%22:%7B%22raw%22:%7B%22source%22:%22python://http://slowpoke2:8888/4a958526dbc2bf8566366d3ef32c0a8542fb5ecd%22,%22type%22:%22image%22%7D,%22ids%22:%7B%22source%22:%22python://http://slowpoke2:8888/e99dbe18478a84f7e4b21d31d1f7746322889780%22,%22type%22:%22image%22,%22shader%22:%22void%20main()%20%7B%20emitRGB(vec3(toNormalized(getDataValue(0)),toNormalized(getDataValue(1)),toNormalized(getDataValue(2))));%20%7D%22%7D,%22affs_gt%22:%7B%22source%22:%22python://http://slowpoke2:8888/86fd41c92471d4e954f9a562d2bc274d210b47d3%22,%22type%22:%22image%22,%22shader%22:%22void%20main()%20%7B%20emitRGB(vec3(toNormalized(getDataValue(0)),toNormalized(getDataValue(1)),toNormalized(getDataValue(2))));%20%7D%22%7D,%22mask%22:%7B%22source%22:%22python://http://slowpoke2:8888/95ebd3d7807f2db9110046ef7f895e1923604a70%22,%22type%22:%22segmentation%22%7D,%22affs_pred%22:%7B%22source%22:%22python://http://slowpoke2:8888/e84420226928b639c747a1ba658bd71cbb64ef68%22,%22type%22:%22image%22,%22shader%22:%22void%20main()%20%7B%20emitRGB(vec3(toNormalized(getDataValue(0)),toNormalized(getDataValue(1)),toNormalized(getDataValue(2))));%20%7D%22%7D%7D%7D\" width=\"100%\" height=\"1024px\"><\\iframe>"
      ],
      "text/plain": [
       "<IPython.core.display.HTML object>"
      ]
     },
     "execution_count": 1043,
     "metadata": {},
     "output_type": "execute_result"
    }
   ],
   "source": [
    "path_to_minibatch = malis_minibatches[0]\n",
    "print(path_to_minibatch)\n",
    "viewer = nyroglancer.Hdf5Viewer(path_to_minibatch)\n",
    "viewer.layers[0].name = \"affs_gt\"\n",
    "viewer.layers[1].name = \"mask\"\n",
    "viewer.layers[2].name = \"ids\"\n",
    "viewer.layers[3].name = \"affs_pred\"\n",
    "viewer.layers[4].name = \"raw\"\n",
    "viewer.layers = [viewer.layers[i] for i in (4, 2, 0, 1, 3)]\n",
    "viewer.set_hostname('slowpoke2:8888')\n",
    "viewer.show()"
   ]
  },
  {
   "cell_type": "code",
   "execution_count": null,
   "metadata": {
    "collapsed": true
   },
   "outputs": [],
   "source": [
    "# path_to_minibatch = malis_minibatches[0]\n",
    "\n",
    "viewer = nyroglancer.Hdf5Viewer(path_to_minibatch)\n",
    "viewer.set_hostname('slowpoke2:8888')\n",
    "viewer.show()"
   ]
  }
 ],
 "metadata": {
  "kernelspec": {
   "display_name": "Python 2",
   "language": "python",
   "name": "python2"
  },
  "language_info": {
   "codemirror_mode": {
    "name": "ipython",
    "version": 2
   },
   "file_extension": ".py",
   "mimetype": "text/x-python",
   "name": "python",
   "nbconvert_exporter": "python",
   "pygments_lexer": "ipython2",
   "version": "2.7.11"
  }
 },
 "nbformat": 4,
 "nbformat_minor": 0
}
